{
 "cells": [
  {
   "cell_type": "code",
   "execution_count": 1,
   "id": "inside-plumbing",
   "metadata": {},
   "outputs": [],
   "source": [
    "import numpy as np\n",
    "import matplotlib.pyplot as plt\n",
    "import importlib\n",
    "from EasyOptim import (\n",
    "    EasyPartition, \n",
    "    EasyIteration, \n",
    "    register_data\n",
    ")\n",
    "from datetime import datetime"
   ]
  },
  {
   "cell_type": "markdown",
   "id": "large-turner",
   "metadata": {},
   "source": [
    "## Simulate phase conjugation optimization experiment\n",
    "### Parameters of the system"
   ]
  },
  {
   "cell_type": "code",
   "execution_count": 2,
   "id": "worthy-suspension",
   "metadata": {},
   "outputs": [],
   "source": [
    "n_in = 200\n",
    "n_out = 100"
   ]
  },
  {
   "cell_type": "markdown",
   "id": "designed-framing",
   "metadata": {},
   "source": [
    "### Generate transmission matrix represented by a random Gaussian complex matrix"
   ]
  },
  {
   "cell_type": "code",
   "execution_count": 3,
   "id": "dependent-lemon",
   "metadata": {},
   "outputs": [],
   "source": [
    "H = np.random.randn(n_out,n_in)+1j*np.random.randn(n_out,n_in)"
   ]
  },
  {
   "cell_type": "markdown",
   "id": "collect-connection",
   "metadata": {},
   "source": [
    "### Define the parameter to optimize: the energy at a target point"
   ]
  },
  {
   "cell_type": "code",
   "execution_count": 4,
   "id": "concerned-synthetic",
   "metadata": {},
   "outputs": [],
   "source": [
    "def snr_on_target(i_target, phases):\n",
    "    E_in = np.exp(1j*np.array(phases))\n",
    "    E_out = H@E_in\n",
    "    I_target = np.abs(E_out[i_target])**2\n",
    "    #I_mean = np.mean(np.abs(E_out)**2)\n",
    "    data = {'E_out':E_out}\n",
    "    # return two objects:\n",
    "    # - the value to optimize\n",
    "    # - a dictionnary that will be saved, \n",
    "    #   the data corresponding to the best state will be returned by the algorithm\n",
    "    return I_target, data\n",
    "\n",
    "i_target = n_out//2\n",
    "cost = lambda x: snr_on_target(i_target, x)"
   ]
  },
  {
   "cell_type": "markdown",
   "id": "willing-court",
   "metadata": {},
   "source": [
    "## Sequential algorithm\n",
    "\n",
    "### Initialize the algorithm"
   ]
  },
  {
   "cell_type": "code",
   "execution_count": 5,
   "id": "front-pearl",
   "metadata": {},
   "outputs": [],
   "source": [
    "myalgo = EasyIteration(\n",
    "    n_var = n_in,\n",
    "    min_or_max = 'max',\n",
    "    n_repeat = 2)\n"
   ]
  },
  {
   "cell_type": "markdown",
   "id": "numerous-volume",
   "metadata": {},
   "source": [
    "### Give the cost function to the algorithm object"
   ]
  },
  {
   "cell_type": "code",
   "execution_count": 6,
   "id": "former-vancouver",
   "metadata": {},
   "outputs": [],
   "source": [
    "myalgo.register_callback(cost)"
   ]
  },
  {
   "cell_type": "markdown",
   "id": "regulated-stations",
   "metadata": {},
   "source": [
    "### Run the algorithm\n",
    "\n",
    "It returns three objects:\n",
    "* the best value found for the cost function,\n",
    "* the corresponding input vector,\n",
    "* a dictionnary of saved data (see the second example to populate this dicitonnary).\n",
    "\n",
    "Moreover:\n",
    "* the evolution of the cost function can be accessed after optimization calling \n",
    "the `myalgo.evol` list,\n",
    "* the data (`E_out` here) for each iteration is stored in the list of dictionnaries\n",
    "`myalgo.evol_data`."
   ]
  },
  {
   "cell_type": "code",
   "execution_count": 7,
   "id": "literary-madness",
   "metadata": {},
   "outputs": [
    {
     "name": "stderr",
     "output_type": "stream",
     "text": [
      "Repeat: 1/2 | Iter: 200/200 | Cost = 61073.8907: 100%|██████████| 200/200 [00:00<00:00, 455.85it/s]\n",
      "Repeat: 2/2 | Iter: 200/200 | Cost = 61084.6642: 100%|██████████| 200/200 [00:00<00:00, 431.65it/s]\n"
     ]
    }
   ],
   "source": [
    "phase_values = np.linspace(0,2*np.pi,10, endpoint = False)\n",
    "best_value, phase_in_opt, data = myalgo.run(\n",
    "    values = phase_values,\n",
    "    x_init = None)"
   ]
  },
  {
   "cell_type": "markdown",
   "id": "operating-humidity",
   "metadata": {},
   "source": [
    "### Analalyze the results"
   ]
  },
  {
   "cell_type": "markdown",
   "id": "white-metadata",
   "metadata": {},
   "source": [
    "**Compute output intensity for the optimize input field found**"
   ]
  },
  {
   "cell_type": "code",
   "execution_count": 8,
   "id": "surprising-george",
   "metadata": {},
   "outputs": [],
   "source": [
    "E_in_opt = np.exp(1j*np.array(phase_in_opt))\n",
    "E_out_opt = H@E_in_opt\n",
    "I_out_opt = np.abs(E_out_opt)**2\n",
    "I_out_opt /= np.mean(I_out_opt)"
   ]
  },
  {
   "cell_type": "markdown",
   "id": "union-gibson",
   "metadata": {},
   "source": [
    "**Compute output intensity for the ideal phase conjugation**"
   ]
  },
  {
   "cell_type": "code",
   "execution_count": 9,
   "id": "changing-professional",
   "metadata": {},
   "outputs": [],
   "source": [
    "# Ideal phase conjugation\n",
    "E_in_cp = H[i_target,:].conjugate()\n",
    "E_out_cp = H@E_in_cp\n",
    "I_out_cp = np.abs(E_out_cp)**2\n",
    "I_out_cp /= np.mean(I_out_cp)"
   ]
  },
  {
   "cell_type": "code",
   "execution_count": 10,
   "id": "tropical-envelope",
   "metadata": {},
   "outputs": [
    {
     "data": {
      "text/plain": [
       "Text(0.5, 1.0, 'Evolution of the target value')"
      ]
     },
     "execution_count": 10,
     "metadata": {},
     "output_type": "execute_result"
    },
    {
     "data": {
      "image/png": "[encoded data removed]",
      "text/plain": [
       "<Figure size 864x360 with 2 Axes>"
      ]
     },
     "metadata": {
      "needs_background": "light"
     },
     "output_type": "display_data"
    }
   ],
   "source": [
    "plt.figure(figsize = (12,5))\n",
    "plt.subplot(121)\n",
    "plt.plot(I_out_opt, label = 'Optimized')\n",
    "plt.plot(I_out_cp, 'r--', label = 'Phase conjugation')\n",
    "plt.title('Ouput intensity pattern')\n",
    "plt.legend()\n",
    "plt.subplot(122)\n",
    "plt.plot(myalgo.evol)\n",
    "plt.title('Evolution of the target value')"
   ]
  },
  {
   "cell_type": "markdown",
   "id": "damaged-friend",
   "metadata": {},
   "source": [
    "**We can recover data we registered for any iteration**"
   ]
  },
  {
   "cell_type": "code",
   "execution_count": 11,
   "id": "amended-grain",
   "metadata": {},
   "outputs": [
    {
     "data": {
      "text/plain": [
       "<matplotlib.legend.Legend at 0x7f5ab9485bb0>"
      ]
     },
     "execution_count": 11,
     "metadata": {},
     "output_type": "execute_result"
    },
    {
     "data": {
      "image/png": "[encoded data removed]",
      "text/plain": [
       "<Figure size 432x288 with 1 Axes>"
      ]
     },
     "metadata": {
      "needs_background": "light"
     },
     "output_type": "display_data"
    }
   ],
   "source": [
    "indices = np.linspace(0, myalgo.n_var, 5, dtype = int)\n",
    "\n",
    "plt.figure()\n",
    "for i in indices:\n",
    "    I_out = np.abs(myalgo.evol_data[i]['E_out'])**2 \n",
    "    plt.plot(I_out, label = f'iteration #{i}')\n",
    "plt.legend()"
   ]
  },
  {
   "cell_type": "markdown",
   "id": "otherwise-winner",
   "metadata": {},
   "source": [
    "## Partition Algorithm\n",
    "\n",
    "We will use here the callback functions that are called as specific times to log relevant data.\n",
    "\n",
    "Requiest Neptune.ai for this example:\n",
    "\n",
    "`conda install -c conda-forge neptune-client`\n",
    "\n",
    "or\n",
    "\n",
    "`pip install neptune-client`"
   ]
  },
  {
   "cell_type": "code",
   "execution_count": 12,
   "id": "basic-showcase",
   "metadata": {},
   "outputs": [],
   "source": [
    "import neptune"
   ]
  },
  {
   "cell_type": "markdown",
   "id": "current-founder",
   "metadata": {},
   "source": [
    "### Initialize a logger\n",
    "Not compulsory, but it is a good practice and a good example of the use the callback functions.\n",
    "\n",
    "We use Neptune.ai here, with the public account. Create your account to save privately your logs."
   ]
  },
  {
   "cell_type": "code",
   "execution_count": 13,
   "id": "peaceful-webster",
   "metadata": {},
   "outputs": [
    {
     "name": "stdout",
     "output_type": "stream",
     "text": [
      "neptune-client            0.13.0             pyhd8ed1ab_0    conda-forge\r\n",
      "neptune-contrib           0.27.1                   pypi_0    pypi\r\n"
     ]
    }
   ],
   "source": [
    "!conda  list | grep neptune"
   ]
  },
  {
   "cell_type": "code",
   "execution_count": 14,
   "id": "removed-chambers",
   "metadata": {},
   "outputs": [
    {
     "data": {
      "text/plain": [
       "Project(shared/pytorch-lightning-integration)"
      ]
     },
     "execution_count": 14,
     "metadata": {},
     "output_type": "execute_result"
    }
   ],
   "source": [
    "neptune.init(\n",
    "    api_token=\"ANONYMOUS\",\n",
    "    project_qualified_name = \"shared/pytorch-lightning-integration\"\n",
    ")"
   ]
  },
  {
   "cell_type": "code",
   "execution_count": 15,
   "id": "danish-soccer",
   "metadata": {},
   "outputs": [
    {
     "name": "stderr",
     "output_type": "stream",
     "text": [
      "Info (NVML): NVML Shared Library Not Found. GPU usage metrics may not be reported. For more information, see https://docs-legacy.neptune.ai/logging-and-managing-experiment-results/logging-experiment-data.html#hardware-consumption \n"
     ]
    },
    {
     "name": "stdout",
     "output_type": "stream",
     "text": [
      "https://ui.neptune.ai/shared/pytorch-lightning-integration/e/PYTOR-172967\n"
     ]
    },
    {
     "data": {
      "text/plain": [
       "Experiment(PYTOR-172967)"
      ]
     },
     "execution_count": 15,
     "metadata": {},
     "output_type": "execute_result"
    }
   ],
   "source": [
    "now = datetime.now().strftime(\"%d-%m-%Y %H:%M\")\n",
    "    \n",
    "# these parameter will be saved by the logger when creating the experiment\n",
    "params={'method':'partition',\n",
    "        'start_time':now}\n",
    "\n",
    "neptune.create_experiment(params = params)"
   ]
  },
  {
   "cell_type": "markdown",
   "id": "noticed-purchase",
   "metadata": {},
   "source": [
    "**The link above gives access to the logs**"
   ]
  },
  {
   "cell_type": "markdown",
   "id": "executed-tutorial",
   "metadata": {},
   "source": [
    "### Create a fraction function\n",
    "\n",
    "It corresponds to the faction of element that will be updated at each iteration. \n",
    "The length of the vector give the number of iteration per repeat."
   ]
  },
  {
   "cell_type": "code",
   "execution_count": 16,
   "id": "stock-national",
   "metadata": {},
   "outputs": [
    {
     "data": {
      "text/plain": [
       "[<matplotlib.lines.Line2D at 0x7f5aa8cb0c10>]"
      ]
     },
     "execution_count": 16,
     "metadata": {},
     "output_type": "execute_result"
    },
    {
     "data": {
      "image/png": "[encoded data removed]",
      "text/plain": [
       "<Figure size 432x288 with 1 Axes>"
      ]
     },
     "metadata": {
      "needs_background": "light"
     },
     "output_type": "display_data"
    }
   ],
   "source": [
    "frac_min = 1./n_in\n",
    "fractions = np.linspace(.5, frac_min, n_in)\n",
    "fractions = np.concatenate([fractions,np.array([frac_min]*n_in)])\n",
    "plt.figure()\n",
    "plt.plot(fractions)"
   ]
  },
  {
   "cell_type": "markdown",
   "id": "buried-committee",
   "metadata": {},
   "source": [
    "### Create a custom optimization object\n",
    "\n",
    "We overload the callback functions to log data at different times.\n",
    "\n",
    "Using the decorator `@EasyOptim.register_data`, the dictionnary returned by the functions updates to the one returned by the algorithm once finished (data is added or replaced if it already exists).\n",
    "\n",
    "`@EasyOptim.register_current_data` adds the returned dictionnary to the list of dictionnaries returned, one element for each iteration."
   ]
  },
  {
   "cell_type": "code",
   "execution_count": 17,
   "id": "statutory-session",
   "metadata": {},
   "outputs": [],
   "source": [
    "plt.ioff() \n",
    "\n",
    "class part_algo(EasyPartition):\n",
    "    def __init__(self, *args, **kwargs):\n",
    "        super().__init__(*args, **kwargs)\n",
    "      \n",
    "    @register_data\n",
    "    def begin(self):\n",
    "        return {'test_beginning':True,\n",
    "                'initial_E_in': np.exp(1j*np.array(self.current_x))}\n",
    "    \n",
    "    @register_data\n",
    "    def end(self):\n",
    "        return {'test_end':42,\n",
    "                'end_E_in': np.exp(1j*np.array(self.current_x))}\n",
    "     \n",
    "    def after_iter(self, i_iter, best_cost, best_x, best_data):\n",
    "        neptune.log_metric('cost_evol',self.best_cost)\n",
    "        if i_iter % 10 == 0:\n",
    "            I_out = np.abs(best_data['E_out'])**2\n",
    "            fig = plt.figure(figsize=(7, 9))\n",
    "            plt.plot(I_out)\n",
    "            neptune.log_image('I_out',fig)\n",
    "            plt.close(fig)\n",
    "        return {'test_iter':2}"
   ]
  },
  {
   "cell_type": "markdown",
   "id": "looking-bhutan",
   "metadata": {},
   "source": [
    "### Initialize the algorithm object"
   ]
  },
  {
   "cell_type": "code",
   "execution_count": 18,
   "id": "documentary-speaker",
   "metadata": {},
   "outputs": [],
   "source": [
    "myalgo = part_algo(\n",
    "        n_var = n_in,\n",
    "        min_or_max = 'max',\n",
    "        n_repeat = 1)\n",
    "myalgo.register_callback(cost)"
   ]
  },
  {
   "cell_type": "markdown",
   "id": "civic-timeline",
   "metadata": {},
   "source": [
    "### Run the algorithm"
   ]
  },
  {
   "cell_type": "code",
   "execution_count": null,
   "id": "light-oasis",
   "metadata": {},
   "outputs": [
    {
     "name": "stderr",
     "output_type": "stream",
     "text": [
      "Repeat: 1/1 | Part: 71/400 | Cost = 12139.1098:  15%|█▌        | 61/400 [00:01<00:05, 66.09it/s]"
     ]
    }
   ],
   "source": [
    "phase_values = np.linspace(0,2*np.pi,10, endpoint = False)\n",
    "best_value, phase_in_opt, data = myalgo.run(\n",
    "    values = phase_values,\n",
    "    fractions = fractions,\n",
    "    x_init = None)"
   ]
  },
  {
   "cell_type": "markdown",
   "id": "baking-values",
   "metadata": {},
   "source": [
    "### Look at the data dictionnary"
   ]
  },
  {
   "cell_type": "code",
   "execution_count": null,
   "id": "weird-depression",
   "metadata": {},
   "outputs": [],
   "source": [
    "print(data.keys())"
   ]
  },
  {
   "cell_type": "code",
   "execution_count": null,
   "id": "celtic-needle",
   "metadata": {},
   "outputs": [],
   "source": [
    "plt.figure()\n",
    "plt.title('Input phase')\n",
    "plt.plot(np.angle(data['initial_E_in']), label = 'initial guess')\n",
    "plt.plot(np.angle(data['end_E_in']), label = 'last (not best) iteration')\n",
    "plt.legend()"
   ]
  },
  {
   "cell_type": "markdown",
   "id": "bigger-franchise",
   "metadata": {},
   "source": [
    "### Analalyze the results"
   ]
  },
  {
   "cell_type": "code",
   "execution_count": null,
   "id": "knowing-software",
   "metadata": {},
   "outputs": [],
   "source": [
    "E_in_cp = H[i_target,:].conjugate()\n",
    "E_out_cp = H@E_in_cp\n",
    "I_out_cp = np.abs(E_out_cp)**2\n",
    "I_out_cp /= np.mean(I_out_cp)\n",
    "\n",
    "E_in_opt = np.exp(1j*np.array(phase_in_opt))\n",
    "E_out_opt = H@E_in_opt\n",
    "I_out_opt = np.abs(E_out_opt)**2\n",
    "I_out_opt /= np.mean(I_out_opt)"
   ]
  },
  {
   "cell_type": "code",
   "execution_count": null,
   "id": "unknown-liver",
   "metadata": {},
   "outputs": [],
   "source": [
    "plt.figure(figsize = (12,5))\n",
    "plt.subplot(121)\n",
    "plt.plot(I_out_opt, label = 'Optimized')\n",
    "plt.plot(I_out_cp, 'r--', label = 'Phase conjugation')\n",
    "plt.title('Ouput intensity pattern')\n",
    "plt.legend()\n",
    "plt.subplot(122)\n",
    "plt.plot(myalgo.evol)\n",
    "plt.title('Evolution of the target value')"
   ]
  }
 ],
 "metadata": {
  "kernelspec": {
   "display_name": "Python 3",
   "language": "python",
   "name": "python3"
  },
  "language_info": {
   "codemirror_mode": {
    "name": "ipython",
    "version": 3
   },
   "file_extension": ".py",
   "mimetype": "text/x-python",
   "name": "python",
   "nbconvert_exporter": "python",
   "pygments_lexer": "ipython3",
   "version": "3.8.5"
  },
  "toc": {
   "base_numbering": 1,
   "nav_menu": {},
   "number_sections": true,
   "sideBar": true,
   "skip_h1_title": false,
   "title_cell": "Table of Contents",
   "title_sidebar": "Contents",
   "toc_cell": false,
   "toc_position": {},
   "toc_section_display": true,
   "toc_window_display": false
  }
 },
 "nbformat": 4,
 "nbformat_minor": 5
}
