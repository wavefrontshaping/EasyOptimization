{
 "cells": [
  {
   "cell_type": "code",
   "execution_count": 1,
   "id": "inside-plumbing",
   "metadata": {},
   "outputs": [],
   "source": [
    "import numpy as np\n",
    "import matplotlib.pyplot as plt\n",
    "import importlib\n",
    "import EasyOptim\n",
    "importlib.reload(EasyOptim)\n",
    "import neptune\n",
    "from datetime import datetime"
   ]
  },
  {
   "cell_type": "markdown",
   "id": "eastern-commissioner",
   "metadata": {},
   "source": [
    "## Simulate phase conjugation optimization experiment\n",
    "### Parameters of the system"
   ]
  },
  {
   "cell_type": "code",
   "execution_count": 2,
   "id": "worthy-suspension",
   "metadata": {},
   "outputs": [],
   "source": [
    "n_in = 200\n",
    "n_out = 100"
   ]
  },
  {
   "cell_type": "markdown",
   "id": "funded-robin",
   "metadata": {},
   "source": [
    "### Generate transmission matrix represented by a random Gaussian complex matrix"
   ]
  },
  {
   "cell_type": "code",
   "execution_count": 3,
   "id": "extensive-equation",
   "metadata": {},
   "outputs": [],
   "source": [
    "H = np.random.randn(n_out,n_in)+1j*np.random.randn(n_out,n_in)"
   ]
  },
  {
   "cell_type": "markdown",
   "id": "aware-centre",
   "metadata": {},
   "source": [
    "### Define the parameter to optimize: the energy at a target point"
   ]
  },
  {
   "cell_type": "code",
   "execution_count": 4,
   "id": "concerned-synthetic",
   "metadata": {},
   "outputs": [],
   "source": [
    "def snr_on_target(i_target, phases):\n",
    "    E_in = np.exp(1j*np.array(phases))\n",
    "    E_out = H@E_in\n",
    "    I_target = np.abs(E_out[i_target])**2\n",
    "    #I_mean = np.mean(np.abs(E_out)**2)\n",
    "    data = {'E_out':E_out}\n",
    "    # return two objects:\n",
    "    # - the value to optimize\n",
    "    # - a dictionnary that will be saved, \n",
    "    #   the data corresponding to the best state will be returned by the algorithm\n",
    "    return I_target, data\n",
    "\n",
    "i_target = n_out//2\n",
    "cost = lambda x: snr_on_target(i_target, x)"
   ]
  },
  {
   "cell_type": "markdown",
   "id": "willing-court",
   "metadata": {},
   "source": [
    "## Sequential algorithm\n",
    "\n",
    "### Initialize the algorithm"
   ]
  },
  {
   "cell_type": "code",
   "execution_count": 5,
   "id": "front-pearl",
   "metadata": {},
   "outputs": [],
   "source": [
    "myalgo = EasyOptim.EasyIteration(\n",
    "    n_var = n_in,\n",
    "    min_or_max = 'max',\n",
    "    n_repeat = 2)\n"
   ]
  },
  {
   "cell_type": "markdown",
   "id": "hairy-houston",
   "metadata": {},
   "source": [
    "### Give the cost function to the algorithm object"
   ]
  },
  {
   "cell_type": "code",
   "execution_count": 6,
   "id": "varied-communications",
   "metadata": {},
   "outputs": [],
   "source": [
    "myalgo.register_callback(cost)"
   ]
  },
  {
   "cell_type": "markdown",
   "id": "latter-record",
   "metadata": {},
   "source": [
    "### Run the algorithm\n",
    "\n",
    "It returns three objects:\n",
    "* The best value found for the cost function,\n",
    "* The corresponding input vector,\n",
    "* A dictionnary of saved data (see the second example to populate this dicitonnary)."
   ]
  },
  {
   "cell_type": "code",
   "execution_count": 7,
   "id": "literary-madness",
   "metadata": {},
   "outputs": [
    {
     "name": "stderr",
     "output_type": "stream",
     "text": [
      "Repeat: 1/2 | Iter: 200/200 | Cost = 55890.3603: 100%|██████████| 200/200 [00:00<00:00, 427.20it/s]\n",
      "Repeat: 2/2 | Iter: 200/200 | Cost = 56499.7099: 100%|██████████| 200/200 [00:00<00:00, 416.84it/s]\n"
     ]
    }
   ],
   "source": [
    "phase_values = np.linspace(0,2*np.pi,10, endpoint = False)\n",
    "best_value, phase_in_opt, data = myalgo.run(\n",
    "    values = phase_values,\n",
    "    x_init = None)"
   ]
  },
  {
   "cell_type": "markdown",
   "id": "rotary-nursery",
   "metadata": {},
   "source": [
    "### Analalyze the results"
   ]
  },
  {
   "cell_type": "markdown",
   "id": "documentary-peace",
   "metadata": {},
   "source": [
    "**Compute output intensity for the optimize input field found**"
   ]
  },
  {
   "cell_type": "code",
   "execution_count": 8,
   "id": "surprising-george",
   "metadata": {},
   "outputs": [],
   "source": [
    "E_in_opt = np.exp(1j*np.array(phase_in_opt))\n",
    "E_out_opt = H@E_in_opt\n",
    "I_out_opt = np.abs(E_out_opt)**2\n",
    "I_out_opt /= np.mean(I_out_opt)"
   ]
  },
  {
   "cell_type": "markdown",
   "id": "painful-baseline",
   "metadata": {},
   "source": [
    "**Compute output intensity for the ideal phase conjugation**"
   ]
  },
  {
   "cell_type": "code",
   "execution_count": 9,
   "id": "extensive-panel",
   "metadata": {},
   "outputs": [],
   "source": [
    "# Ideal phase conjugation\n",
    "E_in_cp = H[i_target,:].conjugate()\n",
    "E_out_cp = H@E_in_cp\n",
    "I_out_cp = np.abs(E_out_cp)**2\n",
    "I_out_cp /= np.mean(I_out_cp)"
   ]
  },
  {
   "cell_type": "code",
   "execution_count": 10,
   "id": "tropical-envelope",
   "metadata": {},
   "outputs": [
    {
     "data": {
      "text/plain": [
       "Text(0.5, 1.0, 'Evolution of the target value')"
      ]
     },
     "execution_count": 10,
     "metadata": {},
     "output_type": "execute_result"
    },
    {
     "data": {
      "image/png": "[encoded data removed]",
      "text/plain": [
       "<Figure size 864x360 with 2 Axes>"
      ]
     },
     "metadata": {
      "needs_background": "light"
     },
     "output_type": "display_data"
    }
   ],
   "source": [
    "plt.figure(figsize = (12,5))\n",
    "plt.subplot(121)\n",
    "plt.plot(I_out_opt, label = 'Optimized')\n",
    "plt.plot(I_out_cp, 'r--', label = 'Phase conjugation')\n",
    "plt.title('Ouput intensity pattern')\n",
    "plt.legend()\n",
    "plt.subplot(122)\n",
    "plt.plot(myalgo.evol)\n",
    "plt.title('Evolution of the target value')"
   ]
  },
  {
   "cell_type": "markdown",
   "id": "otherwise-winner",
   "metadata": {},
   "source": [
    "## Partition Algorithm\n",
    "\n",
    "We will use here the callback functions that are called as specific times to log relevant data."
   ]
  },
  {
   "cell_type": "markdown",
   "id": "raising-encoding",
   "metadata": {},
   "source": [
    "### Initialize a logger\n",
    "Not compulsory, but it is a good practice and a good example of the use the callback functions.\n",
    "\n",
    "We use Neptune.ai here, with the public account. Create your account to save privately your logs."
   ]
  },
  {
   "cell_type": "code",
   "execution_count": 11,
   "id": "removed-chambers",
   "metadata": {},
   "outputs": [
    {
     "data": {
      "text/plain": [
       "Project(shared/pytorch-lightning-integration)"
      ]
     },
     "execution_count": 11,
     "metadata": {},
     "output_type": "execute_result"
    }
   ],
   "source": [
    "neptune.init(\n",
    "    api_token=\"ANONYMOUS\",\n",
    "    project_qualified_name = \"shared/pytorch-lightning-integration\"\n",
    ")"
   ]
  },
  {
   "cell_type": "code",
   "execution_count": 19,
   "id": "danish-soccer",
   "metadata": {},
   "outputs": [
    {
     "name": "stdout",
     "output_type": "stream",
     "text": [
      "https://ui.neptune.ai/shared/pytorch-lightning-integration/e/PYTOR-163242\n"
     ]
    },
    {
     "data": {
      "text/plain": [
       "Experiment(PYTOR-163242)"
      ]
     },
     "execution_count": 19,
     "metadata": {},
     "output_type": "execute_result"
    }
   ],
   "source": [
    "now = datetime.now().strftime(\"%d-%m-%Y %H:%M\")\n",
    "    \n",
    "# these parameter will be saved by the logger when creating the experiment\n",
    "params={'method':'partition',\n",
    "        'start_time':now}\n",
    "\n",
    "neptune.create_experiment(params = params)"
   ]
  },
  {
   "cell_type": "markdown",
   "id": "ruled-banking",
   "metadata": {},
   "source": [
    "**The link above gives access to the logs**"
   ]
  },
  {
   "cell_type": "markdown",
   "id": "southeast-water",
   "metadata": {},
   "source": [
    "### Create a fraction function\n",
    "\n",
    "It corresponds to the faction of element that will be updated at each iteration. \n",
    "The length of the vector give the number of iteration per repeat."
   ]
  },
  {
   "cell_type": "code",
   "execution_count": 20,
   "id": "romance-expense",
   "metadata": {},
   "outputs": [
    {
     "data": {
      "text/plain": [
       "[<matplotlib.lines.Line2D at 0x7ff8e5332dc0>]"
      ]
     },
     "execution_count": 20,
     "metadata": {},
     "output_type": "execute_result"
    },
    {
     "data": {
      "image/png": "[encoded data removed]",
      "text/plain": [
       "<Figure size 432x288 with 1 Axes>"
      ]
     },
     "metadata": {
      "needs_background": "light"
     },
     "output_type": "display_data"
    }
   ],
   "source": [
    "frac_min = 1./n_in\n",
    "fractions = np.linspace(.5, frac_min, n_in)\n",
    "fractions = np.concatenate([fractions,np.array([frac_min]*n_in)])\n",
    "plt.figure()\n",
    "plt.plot(fractions)"
   ]
  },
  {
   "cell_type": "markdown",
   "id": "opponent-honor",
   "metadata": {},
   "source": [
    "### Create a custom optimization object\n",
    "\n",
    "We overload the callback function to log data at different times.\n",
    "\n",
    "Using the decorator `@EasyOptim.register_data`, the dictionnary returned by the functions are added to the one returned by the algorithm once finished."
   ]
  },
  {
   "cell_type": "code",
   "execution_count": 24,
   "id": "statutory-session",
   "metadata": {},
   "outputs": [],
   "source": [
    "plt.ioff() \n",
    "\n",
    "class part_algo(EasyOptim.EasyPartition):\n",
    "    def __init__(self, *args, **kwargs):\n",
    "        super().__init__(*args, **kwargs)\n",
    "      \n",
    "    @EasyOptim.register_data\n",
    "    def begin(self):\n",
    "        return {'test_a':0}\n",
    "    \n",
    "    @EasyOptim.register_data\n",
    "    def end(self):\n",
    "        return {'test_b':1}\n",
    "     \n",
    "    @EasyOptim.register_data\n",
    "    def after_iter(self, i_iter, best_cost, best_data):\n",
    "        neptune.log_metric('cost_evol',self.best_cost)\n",
    "        if i_iter % 10 == 0:\n",
    "            I_out = np.abs(best_data['E_out'])**2\n",
    "            fig = plt.figure(figsize=(7, 9))\n",
    "            plt.plot(I_out)\n",
    "            neptune.log_image('I_out',fig)\n",
    "            plt.close(fig)\n",
    "        return {'test_c':2}"
   ]
  },
  {
   "cell_type": "markdown",
   "id": "split-capture",
   "metadata": {},
   "source": [
    "### Initialize the algorithm object"
   ]
  },
  {
   "cell_type": "code",
   "execution_count": 25,
   "id": "otherwise-canon",
   "metadata": {},
   "outputs": [],
   "source": [
    "myalgo = part_algo(\n",
    "        n_var = n_in,\n",
    "        min_or_max = 'max',\n",
    "        n_repeat = 1)\n",
    "myalgo.register_callback(cost)"
   ]
  },
  {
   "cell_type": "markdown",
   "id": "korean-presence",
   "metadata": {},
   "source": [
    "### Run the algorithm"
   ]
  },
  {
   "cell_type": "code",
   "execution_count": 14,
   "id": "light-oasis",
   "metadata": {},
   "outputs": [
    {
     "name": "stderr",
     "output_type": "stream",
     "text": [
      "Repeat: 1/1 | Part: 400/400 | Cost = 39007.8949: 100%|██████████| 400/400 [00:06<00:00, 64.79it/s]\n"
     ]
    }
   ],
   "source": [
    "phase_values = np.linspace(0,2*np.pi,10, endpoint = False)\n",
    "best_value, phase_in_opt, data = myalgo.run(\n",
    "    values = phase_values,\n",
    "    fractions = fractions,\n",
    "    x_init = None)"
   ]
  },
  {
   "cell_type": "markdown",
   "id": "great-hepatitis",
   "metadata": {},
   "source": [
    "### Look at the data dicitonnary"
   ]
  },
  {
   "cell_type": "code",
   "execution_count": 23,
   "id": "polar-restaurant",
   "metadata": {},
   "outputs": [
    {
     "name": "stdout",
     "output_type": "stream",
     "text": [
      "dict_keys(['test_b', 'test_c', 'E_out'])\n"
     ]
    }
   ],
   "source": [
    "print(data.keys())"
   ]
  },
  {
   "cell_type": "code",
   "execution_count": 26,
   "id": "resistant-catholic",
   "metadata": {},
   "outputs": [
    {
     "ename": "NameError",
     "evalue": "name 'E_out' is not defined",
     "output_type": "error",
     "traceback": [
      "\u001b[0;31m---------------------------------------------------------------------------\u001b[0m",
      "\u001b[0;31mNameError\u001b[0m                                 Traceback (most recent call last)",
      "\u001b[0;32m<ipython-input-26-9da010448a14>\u001b[0m in \u001b[0;36m<module>\u001b[0;34m\u001b[0m\n\u001b[1;32m      1\u001b[0m \u001b[0mplt\u001b[0m\u001b[0;34m.\u001b[0m\u001b[0mfigure\u001b[0m\u001b[0;34m(\u001b[0m\u001b[0;34m)\u001b[0m\u001b[0;34m\u001b[0m\u001b[0;34m\u001b[0m\u001b[0m\n\u001b[0;32m----> 2\u001b[0;31m \u001b[0mplt\u001b[0m\u001b[0;34m.\u001b[0m\u001b[0mplot\u001b[0m\u001b[0;34m(\u001b[0m\u001b[0mE_out\u001b[0m\u001b[0;34m)\u001b[0m\u001b[0;34m\u001b[0m\u001b[0;34m\u001b[0m\u001b[0m\n\u001b[0m",
      "\u001b[0;31mNameError\u001b[0m: name 'E_out' is not defined"
     ]
    },
    {
     "data": {
      "text/plain": [
       "<Figure size 432x288 with 0 Axes>"
      ]
     },
     "metadata": {},
     "output_type": "display_data"
    }
   ],
   "source": [
    "plt.figure()\n",
    "plt.plot(data['E_out)"
   ]
  },
  {
   "cell_type": "markdown",
   "id": "swiss-gravity",
   "metadata": {},
   "source": [
    "### Analalyze the results"
   ]
  },
  {
   "cell_type": "code",
   "execution_count": 16,
   "id": "knowing-software",
   "metadata": {},
   "outputs": [],
   "source": [
    "E_in_cp = H[i_target,:].conjugate()\n",
    "E_out_cp = H@E_in_cp\n",
    "I_out_cp = np.abs(E_out_cp)**2\n",
    "I_out_cp /= np.mean(I_out_cp)\n",
    "\n",
    "E_in_opt = np.exp(1j*np.array(phase_in_opt))\n",
    "E_out_opt = H@E_in_opt\n",
    "I_out_opt = np.abs(E_out_opt)**2\n",
    "I_out_opt /= np.mean(I_out_opt)"
   ]
  },
  {
   "cell_type": "code",
   "execution_count": 21,
   "id": "unknown-liver",
   "metadata": {},
   "outputs": [
    {
     "data": {
      "text/plain": [
       "Text(0.5, 1.0, 'Evolution of the target value')"
      ]
     },
     "execution_count": 21,
     "metadata": {},
     "output_type": "execute_result"
    },
    {
     "data": {
      "image/png": "[encoded data removed]",
      "text/plain": [
       "<Figure size 864x360 with 2 Axes>"
      ]
     },
     "metadata": {
      "needs_background": "light"
     },
     "output_type": "display_data"
    }
   ],
   "source": [
    "plt.figure(figsize = (12,5))\n",
    "plt.subplot(121)\n",
    "plt.plot(I_out_opt, label = 'Optimized')\n",
    "plt.plot(I_out_cp, 'r--', label = 'Phase conjugation')\n",
    "plt.title('Ouput intensity pattern')\n",
    "plt.legend()\n",
    "plt.subplot(122)\n",
    "plt.plot(myalgo.evol)\n",
    "plt.title('Evolution of the target value')"
   ]
  }
 ],
 "metadata": {
  "kernelspec": {
   "display_name": "Python 3",
   "language": "python",
   "name": "python3"
  },
  "language_info": {
   "codemirror_mode": {
    "name": "ipython",
    "version": 3
   },
   "file_extension": ".py",
   "mimetype": "text/x-python",
   "name": "python",
   "nbconvert_exporter": "python",
   "pygments_lexer": "ipython3",
   "version": "3.8.5"
  },
  "toc": {
   "base_numbering": 1,
   "nav_menu": {},
   "number_sections": true,
   "sideBar": true,
   "skip_h1_title": false,
   "title_cell": "Table of Contents",
   "title_sidebar": "Contents",
   "toc_cell": false,
   "toc_position": {},
   "toc_section_display": true,
   "toc_window_display": false
  }
 },
 "nbformat": 4,
 "nbformat_minor": 5
}
